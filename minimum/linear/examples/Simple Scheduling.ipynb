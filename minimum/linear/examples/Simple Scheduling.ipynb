{
 "cells": [
  {
   "cell_type": "markdown",
   "metadata": {},
   "source": [
    "Problem from http://yetanothermathprogrammingconsultant.blogspot.se/2016/08/back-to-basics-very-simple-scheduling.html\n",
    "\n",
    "Start by creating our variables."
   ]
  },
  {
   "cell_type": "code",
   "execution_count": 1,
   "metadata": {},
   "outputs": [
    {
     "name": "stdout",
     "output_type": "stream",
     "text": [
      "n= 9 N= 36\n"
     ]
    }
   ],
   "source": [
    "from minimum.linear.ip import IP\n",
    "from minimum.linear.sum import Sum\n",
    "\n",
    "n = 9\n",
    "P = []\n",
    "for i in range(n):\n",
    "    for j in range(i + 1, n):\n",
    "        P.append((i, j))\n",
    "N = len(P)\n",
    "print(\"n=\", n, \"N=\", N)\n",
    "\n",
    "ip = IP()\n",
    "x = ip.add_boolean_grid(n, N)\n",
    "\n",
    "y = {}\n",
    "for i,j in P:\n",
    "    y[(i, j)] = ip.add_boolean_vector(N)\n"
   ]
  },
  {
   "cell_type": "markdown",
   "metadata": {},
   "source": [
    "The obvious constraints on y:"
   ]
  },
  {
   "cell_type": "code",
   "execution_count": 2,
   "metadata": {},
   "outputs": [],
   "source": [
    "for t in range(N):\n",
    "    s = Sum(0)\n",
    "    for i,j in P:\n",
    "        s += y[i, j][t]\n",
    "    ip.add_constraint(s == 1)\n",
    "    \n",
    "for i,j in P:\n",
    "    ip.add_constraint(sum(y[i, j][:]) <= 1)"
   ]
  },
  {
   "cell_type": "markdown",
   "metadata": {},
   "source": [
    "Two weekends off:"
   ]
  },
  {
   "cell_type": "code",
   "execution_count": 3,
   "metadata": {},
   "outputs": [],
   "source": [
    "for i in range(n):\n",
    "    for t in range(N):\n",
    "        ip.add_constraint(x[i][t] + x[i][(t + 1) % N] + x[i][(t + 2) % N] <= 1)"
   ]
  },
  {
   "cell_type": "markdown",
   "metadata": {},
   "source": [
    "Connect x and y:"
   ]
  },
  {
   "cell_type": "code",
   "execution_count": 4,
   "metadata": {},
   "outputs": [],
   "source": [
    "for t in range(N):\n",
    "    for i,j in P:\n",
    "        ip.add_constraint(y[i, j][t] <= x[i][t])\n",
    "        ip.add_constraint(y[i, j][t] <= x[j][t])\n",
    "        ip.add_constraint(y[i, j][t] >= x[i][t] + x[j][t] - 1)"
   ]
  },
  {
   "cell_type": "code",
   "execution_count": 7,
   "metadata": {},
   "outputs": [
    {
     "data": {
      "text/plain": [
       "True"
      ]
     },
     "execution_count": 7,
     "metadata": {},
     "output_type": "execute_result"
    }
   ],
   "source": [
    "from minimum.linear.solver import Solver, Type\n",
    "\n",
    "Solver(Type.minisat).solutions(ip).get()\n"
   ]
  },
  {
   "cell_type": "code",
   "execution_count": 8,
   "metadata": {},
   "outputs": [
    {
     "data": {
      "text/html": [
       "<table><tr><td style='border-style:hidden;'></td><td style='border-style:hidden;'>&ensp;&ensp;0</td><td style='border-style:hidden;'>&ensp;&ensp;1</td><td style='border-style:hidden;'>&ensp;&ensp;2</td><td style='border-style:hidden;'>&ensp;&ensp;3</td><td style='border-style:hidden;'>&ensp;&ensp;4</td><td style='border-style:hidden;'>&ensp;&ensp;5</td><td style='border-style:hidden;'>&ensp;&ensp;6</td><td style='border-style:hidden;'>&ensp;&ensp;7</td><td style='border-style:hidden;'>&ensp;&ensp;8</td><td style='border-style:hidden;'>&ensp;&ensp;9</td><td style='border-style:hidden;'>&ensp;10</td><td style='border-style:hidden;'>&ensp;11</td><td style='border-style:hidden;'>&ensp;12</td><td style='border-style:hidden;'>&ensp;13</td><td style='border-style:hidden;'>&ensp;14</td><td style='border-style:hidden;'>&ensp;15</td><td style='border-style:hidden;'>&ensp;16</td><td style='border-style:hidden;'>&ensp;17</td><td style='border-style:hidden;'>&ensp;18</td><td style='border-style:hidden;'>&ensp;19</td><td style='border-style:hidden;'>&ensp;20</td><td style='border-style:hidden;'>&ensp;21</td><td style='border-style:hidden;'>&ensp;22</td><td style='border-style:hidden;'>&ensp;23</td><td style='border-style:hidden;'>&ensp;24</td><td style='border-style:hidden;'>&ensp;25</td><td style='border-style:hidden;'>&ensp;26</td><td style='border-style:hidden;'>&ensp;27</td><td style='border-style:hidden;'>&ensp;28</td><td style='border-style:hidden;'>&ensp;29</td><td style='border-style:hidden;'>&ensp;30</td><td style='border-style:hidden;'>&ensp;31</td><td style='border-style:hidden;'>&ensp;32</td><td style='border-style:hidden;'>&ensp;33</td><td style='border-style:hidden;'>&ensp;34</td><td style='border-style:hidden;'>&ensp;35</td></tr><tr><td style='border-style:hidden;'>0<td bgcolor=\"#eeeeee\" style='text-align: center;'></td><td bgcolor=\"#ccccff\" style='text-align: center;'>1</td><td bgcolor=\"#eeeeee\" style='text-align: center;'></td><td bgcolor=\"#eeeeee\" style='text-align: center;'></td><td bgcolor=\"#ccccff\" style='text-align: center;'>1</td><td bgcolor=\"#eeeeee\" style='text-align: center;'></td><td bgcolor=\"#eeeeee\" style='text-align: center;'></td><td bgcolor=\"#eeeeee\" style='text-align: center;'></td><td bgcolor=\"#ccccff\" style='text-align: center;'>1</td><td bgcolor=\"#eeeeee\" style='text-align: center;'></td><td bgcolor=\"#eeeeee\" style='text-align: center;'></td><td bgcolor=\"#eeeeee\" style='text-align: center;'></td><td bgcolor=\"#eeeeee\" style='text-align: center;'></td><td bgcolor=\"#ccccff\" style='text-align: center;'>1</td><td bgcolor=\"#eeeeee\" style='text-align: center;'></td><td bgcolor=\"#eeeeee\" style='text-align: center;'></td><td bgcolor=\"#eeeeee\" style='text-align: center;'></td><td bgcolor=\"#eeeeee\" style='text-align: center;'></td><td bgcolor=\"#eeeeee\" style='text-align: center;'></td><td bgcolor=\"#eeeeee\" style='text-align: center;'></td><td bgcolor=\"#eeeeee\" style='text-align: center;'></td><td bgcolor=\"#eeeeee\" style='text-align: center;'></td><td bgcolor=\"#ccccff\" style='text-align: center;'>1</td><td bgcolor=\"#eeeeee\" style='text-align: center;'></td><td bgcolor=\"#eeeeee\" style='text-align: center;'></td><td bgcolor=\"#ccccff\" style='text-align: center;'>1</td><td bgcolor=\"#eeeeee\" style='text-align: center;'></td><td bgcolor=\"#eeeeee\" style='text-align: center;'></td><td bgcolor=\"#eeeeee\" style='text-align: center;'></td><td bgcolor=\"#ccccff\" style='text-align: center;'>1</td><td bgcolor=\"#eeeeee\" style='text-align: center;'></td><td bgcolor=\"#eeeeee\" style='text-align: center;'></td><td bgcolor=\"#eeeeee\" style='text-align: center;'></td><td bgcolor=\"#ccccff\" style='text-align: center;'>1</td><td bgcolor=\"#eeeeee\" style='text-align: center;'></td><td bgcolor=\"#eeeeee\" style='text-align: center;'></td></tr><tr><td style='border-style:hidden;'>1<td bgcolor=\"#eeeeee\" style='text-align: center;'></td><td bgcolor=\"#eeeeee\" style='text-align: center;'></td><td bgcolor=\"#ccccff\" style='text-align: center;'>1</td><td bgcolor=\"#eeeeee\" style='text-align: center;'></td><td bgcolor=\"#eeeeee\" style='text-align: center;'></td><td bgcolor=\"#ccccff\" style='text-align: center;'>1</td><td bgcolor=\"#eeeeee\" style='text-align: center;'></td><td bgcolor=\"#eeeeee\" style='text-align: center;'></td><td bgcolor=\"#eeeeee\" style='text-align: center;'></td><td bgcolor=\"#ccccff\" style='text-align: center;'>1</td><td bgcolor=\"#eeeeee\" style='text-align: center;'></td><td bgcolor=\"#eeeeee\" style='text-align: center;'></td><td bgcolor=\"#ccccff\" style='text-align: center;'>1</td><td bgcolor=\"#eeeeee\" style='text-align: center;'></td><td bgcolor=\"#eeeeee\" style='text-align: center;'></td><td bgcolor=\"#eeeeee\" style='text-align: center;'></td><td bgcolor=\"#eeeeee\" style='text-align: center;'></td><td bgcolor=\"#ccccff\" style='text-align: center;'>1</td><td bgcolor=\"#eeeeee\" style='text-align: center;'></td><td bgcolor=\"#eeeeee\" style='text-align: center;'></td><td bgcolor=\"#eeeeee\" style='text-align: center;'></td><td bgcolor=\"#eeeeee\" style='text-align: center;'></td><td bgcolor=\"#ccccff\" style='text-align: center;'>1</td><td bgcolor=\"#eeeeee\" style='text-align: center;'></td><td bgcolor=\"#eeeeee\" style='text-align: center;'></td><td bgcolor=\"#eeeeee\" style='text-align: center;'></td><td bgcolor=\"#ccccff\" style='text-align: center;'>1</td><td bgcolor=\"#eeeeee\" style='text-align: center;'></td><td bgcolor=\"#eeeeee\" style='text-align: center;'></td><td bgcolor=\"#eeeeee\" style='text-align: center;'></td><td bgcolor=\"#eeeeee\" style='text-align: center;'></td><td bgcolor=\"#eeeeee\" style='text-align: center;'></td><td bgcolor=\"#eeeeee\" style='text-align: center;'></td><td bgcolor=\"#eeeeee\" style='text-align: center;'></td><td bgcolor=\"#ccccff\" style='text-align: center;'>1</td><td bgcolor=\"#eeeeee\" style='text-align: center;'></td></tr><tr><td style='border-style:hidden;'>2<td bgcolor=\"#ccccff\" style='text-align: center;'>1</td><td bgcolor=\"#eeeeee\" style='text-align: center;'></td><td bgcolor=\"#eeeeee\" style='text-align: center;'></td><td bgcolor=\"#eeeeee\" style='text-align: center;'></td><td bgcolor=\"#eeeeee\" style='text-align: center;'></td><td bgcolor=\"#eeeeee\" style='text-align: center;'></td><td bgcolor=\"#ccccff\" style='text-align: center;'>1</td><td bgcolor=\"#eeeeee\" style='text-align: center;'></td><td bgcolor=\"#eeeeee\" style='text-align: center;'></td><td bgcolor=\"#ccccff\" style='text-align: center;'>1</td><td bgcolor=\"#eeeeee\" style='text-align: center;'></td><td bgcolor=\"#eeeeee\" style='text-align: center;'></td><td bgcolor=\"#eeeeee\" style='text-align: center;'></td><td bgcolor=\"#eeeeee\" style='text-align: center;'></td><td bgcolor=\"#eeeeee\" style='text-align: center;'></td><td bgcolor=\"#eeeeee\" style='text-align: center;'></td><td bgcolor=\"#ccccff\" style='text-align: center;'>1</td><td bgcolor=\"#eeeeee\" style='text-align: center;'></td><td bgcolor=\"#eeeeee\" style='text-align: center;'></td><td bgcolor=\"#eeeeee\" style='text-align: center;'></td><td bgcolor=\"#eeeeee\" style='text-align: center;'></td><td bgcolor=\"#ccccff\" style='text-align: center;'>1</td><td bgcolor=\"#eeeeee\" style='text-align: center;'></td><td bgcolor=\"#eeeeee\" style='text-align: center;'></td><td bgcolor=\"#ccccff\" style='text-align: center;'>1</td><td bgcolor=\"#eeeeee\" style='text-align: center;'></td><td bgcolor=\"#eeeeee\" style='text-align: center;'></td><td bgcolor=\"#eeeeee\" style='text-align: center;'></td><td bgcolor=\"#eeeeee\" style='text-align: center;'></td><td bgcolor=\"#ccccff\" style='text-align: center;'>1</td><td bgcolor=\"#eeeeee\" style='text-align: center;'></td><td bgcolor=\"#eeeeee\" style='text-align: center;'></td><td bgcolor=\"#ccccff\" style='text-align: center;'>1</td><td bgcolor=\"#eeeeee\" style='text-align: center;'></td><td bgcolor=\"#eeeeee\" style='text-align: center;'></td><td bgcolor=\"#eeeeee\" style='text-align: center;'></td></tr><tr><td style='border-style:hidden;'>3<td bgcolor=\"#ccccff\" style='text-align: center;'>1</td><td bgcolor=\"#eeeeee\" style='text-align: center;'></td><td bgcolor=\"#eeeeee\" style='text-align: center;'></td><td bgcolor=\"#ccccff\" style='text-align: center;'>1</td><td bgcolor=\"#eeeeee\" style='text-align: center;'></td><td bgcolor=\"#eeeeee\" style='text-align: center;'></td><td bgcolor=\"#eeeeee\" style='text-align: center;'></td><td bgcolor=\"#eeeeee\" style='text-align: center;'></td><td bgcolor=\"#eeeeee\" style='text-align: center;'></td><td bgcolor=\"#eeeeee\" style='text-align: center;'></td><td bgcolor=\"#eeeeee\" style='text-align: center;'></td><td bgcolor=\"#eeeeee\" style='text-align: center;'></td><td bgcolor=\"#ccccff\" style='text-align: center;'>1</td><td bgcolor=\"#eeeeee\" style='text-align: center;'></td><td bgcolor=\"#eeeeee\" style='text-align: center;'></td><td bgcolor=\"#ccccff\" style='text-align: center;'>1</td><td bgcolor=\"#eeeeee\" style='text-align: center;'></td><td bgcolor=\"#eeeeee\" style='text-align: center;'></td><td bgcolor=\"#eeeeee\" style='text-align: center;'></td><td bgcolor=\"#eeeeee\" style='text-align: center;'></td><td bgcolor=\"#ccccff\" style='text-align: center;'>1</td><td bgcolor=\"#eeeeee\" style='text-align: center;'></td><td bgcolor=\"#eeeeee\" style='text-align: center;'></td><td bgcolor=\"#ccccff\" style='text-align: center;'>1</td><td bgcolor=\"#eeeeee\" style='text-align: center;'></td><td bgcolor=\"#eeeeee\" style='text-align: center;'></td><td bgcolor=\"#eeeeee\" style='text-align: center;'></td><td bgcolor=\"#eeeeee\" style='text-align: center;'></td><td bgcolor=\"#ccccff\" style='text-align: center;'>1</td><td bgcolor=\"#eeeeee\" style='text-align: center;'></td><td bgcolor=\"#eeeeee\" style='text-align: center;'></td><td bgcolor=\"#eeeeee\" style='text-align: center;'></td><td bgcolor=\"#eeeeee\" style='text-align: center;'></td><td bgcolor=\"#ccccff\" style='text-align: center;'>1</td><td bgcolor=\"#eeeeee\" style='text-align: center;'></td><td bgcolor=\"#eeeeee\" style='text-align: center;'></td></tr><tr><td style='border-style:hidden;'>4<td bgcolor=\"#eeeeee\" style='text-align: center;'></td><td bgcolor=\"#eeeeee\" style='text-align: center;'></td><td bgcolor=\"#eeeeee\" style='text-align: center;'></td><td bgcolor=\"#eeeeee\" style='text-align: center;'></td><td bgcolor=\"#ccccff\" style='text-align: center;'>1</td><td bgcolor=\"#eeeeee\" style='text-align: center;'></td><td bgcolor=\"#eeeeee\" style='text-align: center;'></td><td bgcolor=\"#eeeeee\" style='text-align: center;'></td><td bgcolor=\"#eeeeee\" style='text-align: center;'></td><td bgcolor=\"#eeeeee\" style='text-align: center;'></td><td bgcolor=\"#ccccff\" style='text-align: center;'>1</td><td bgcolor=\"#eeeeee\" style='text-align: center;'></td><td bgcolor=\"#eeeeee\" style='text-align: center;'></td><td bgcolor=\"#eeeeee\" style='text-align: center;'></td><td bgcolor=\"#ccccff\" style='text-align: center;'>1</td><td bgcolor=\"#eeeeee\" style='text-align: center;'></td><td bgcolor=\"#eeeeee\" style='text-align: center;'></td><td bgcolor=\"#ccccff\" style='text-align: center;'>1</td><td bgcolor=\"#eeeeee\" style='text-align: center;'></td><td bgcolor=\"#eeeeee\" style='text-align: center;'></td><td bgcolor=\"#ccccff\" style='text-align: center;'>1</td><td bgcolor=\"#eeeeee\" style='text-align: center;'></td><td bgcolor=\"#eeeeee\" style='text-align: center;'></td><td bgcolor=\"#eeeeee\" style='text-align: center;'></td><td bgcolor=\"#ccccff\" style='text-align: center;'>1</td><td bgcolor=\"#eeeeee\" style='text-align: center;'></td><td bgcolor=\"#eeeeee\" style='text-align: center;'></td><td bgcolor=\"#ccccff\" style='text-align: center;'>1</td><td bgcolor=\"#eeeeee\" style='text-align: center;'></td><td bgcolor=\"#eeeeee\" style='text-align: center;'></td><td bgcolor=\"#eeeeee\" style='text-align: center;'></td><td bgcolor=\"#ccccff\" style='text-align: center;'>1</td><td bgcolor=\"#eeeeee\" style='text-align: center;'></td><td bgcolor=\"#eeeeee\" style='text-align: center;'></td><td bgcolor=\"#eeeeee\" style='text-align: center;'></td><td bgcolor=\"#eeeeee\" style='text-align: center;'></td></tr><tr><td style='border-style:hidden;'>5<td bgcolor=\"#eeeeee\" style='text-align: center;'></td><td bgcolor=\"#eeeeee\" style='text-align: center;'></td><td bgcolor=\"#eeeeee\" style='text-align: center;'></td><td bgcolor=\"#eeeeee\" style='text-align: center;'></td><td bgcolor=\"#eeeeee\" style='text-align: center;'></td><td bgcolor=\"#ccccff\" style='text-align: center;'>1</td><td bgcolor=\"#eeeeee\" style='text-align: center;'></td><td bgcolor=\"#eeeeee\" style='text-align: center;'></td><td bgcolor=\"#ccccff\" style='text-align: center;'>1</td><td bgcolor=\"#eeeeee\" style='text-align: center;'></td><td bgcolor=\"#eeeeee\" style='text-align: center;'></td><td bgcolor=\"#ccccff\" style='text-align: center;'>1</td><td bgcolor=\"#eeeeee\" style='text-align: center;'></td><td bgcolor=\"#eeeeee\" style='text-align: center;'></td><td bgcolor=\"#ccccff\" style='text-align: center;'>1</td><td bgcolor=\"#eeeeee\" style='text-align: center;'></td><td bgcolor=\"#eeeeee\" style='text-align: center;'></td><td bgcolor=\"#eeeeee\" style='text-align: center;'></td><td bgcolor=\"#ccccff\" style='text-align: center;'>1</td><td bgcolor=\"#eeeeee\" style='text-align: center;'></td><td bgcolor=\"#eeeeee\" style='text-align: center;'></td><td bgcolor=\"#eeeeee\" style='text-align: center;'></td><td bgcolor=\"#eeeeee\" style='text-align: center;'></td><td bgcolor=\"#eeeeee\" style='text-align: center;'></td><td bgcolor=\"#eeeeee\" style='text-align: center;'></td><td bgcolor=\"#eeeeee\" style='text-align: center;'></td><td bgcolor=\"#eeeeee\" style='text-align: center;'></td><td bgcolor=\"#eeeeee\" style='text-align: center;'></td><td bgcolor=\"#ccccff\" style='text-align: center;'>1</td><td bgcolor=\"#eeeeee\" style='text-align: center;'></td><td bgcolor=\"#eeeeee\" style='text-align: center;'></td><td bgcolor=\"#eeeeee\" style='text-align: center;'></td><td bgcolor=\"#ccccff\" style='text-align: center;'>1</td><td bgcolor=\"#eeeeee\" style='text-align: center;'></td><td bgcolor=\"#eeeeee\" style='text-align: center;'></td><td bgcolor=\"#ccccff\" style='text-align: center;'>1</td></tr><tr><td style='border-style:hidden;'>6<td bgcolor=\"#eeeeee\" style='text-align: center;'></td><td bgcolor=\"#ccccff\" style='text-align: center;'>1</td><td bgcolor=\"#eeeeee\" style='text-align: center;'></td><td bgcolor=\"#eeeeee\" style='text-align: center;'></td><td bgcolor=\"#eeeeee\" style='text-align: center;'></td><td bgcolor=\"#eeeeee\" style='text-align: center;'></td><td bgcolor=\"#ccccff\" style='text-align: center;'>1</td><td bgcolor=\"#eeeeee\" style='text-align: center;'></td><td bgcolor=\"#eeeeee\" style='text-align: center;'></td><td bgcolor=\"#eeeeee\" style='text-align: center;'></td><td bgcolor=\"#eeeeee\" style='text-align: center;'></td><td bgcolor=\"#ccccff\" style='text-align: center;'>1</td><td bgcolor=\"#eeeeee\" style='text-align: center;'></td><td bgcolor=\"#eeeeee\" style='text-align: center;'></td><td bgcolor=\"#eeeeee\" style='text-align: center;'></td><td bgcolor=\"#eeeeee\" style='text-align: center;'></td><td bgcolor=\"#eeeeee\" style='text-align: center;'></td><td bgcolor=\"#eeeeee\" style='text-align: center;'></td><td bgcolor=\"#eeeeee\" style='text-align: center;'></td><td bgcolor=\"#ccccff\" style='text-align: center;'>1</td><td bgcolor=\"#eeeeee\" style='text-align: center;'></td><td bgcolor=\"#eeeeee\" style='text-align: center;'></td><td bgcolor=\"#eeeeee\" style='text-align: center;'></td><td bgcolor=\"#ccccff\" style='text-align: center;'>1</td><td bgcolor=\"#eeeeee\" style='text-align: center;'></td><td bgcolor=\"#eeeeee\" style='text-align: center;'></td><td bgcolor=\"#eeeeee\" style='text-align: center;'></td><td bgcolor=\"#ccccff\" style='text-align: center;'>1</td><td bgcolor=\"#eeeeee\" style='text-align: center;'></td><td bgcolor=\"#eeeeee\" style='text-align: center;'></td><td bgcolor=\"#ccccff\" style='text-align: center;'>1</td><td bgcolor=\"#eeeeee\" style='text-align: center;'></td><td bgcolor=\"#eeeeee\" style='text-align: center;'></td><td bgcolor=\"#eeeeee\" style='text-align: center;'></td><td bgcolor=\"#ccccff\" style='text-align: center;'>1</td><td bgcolor=\"#eeeeee\" style='text-align: center;'></td></tr><tr><td style='border-style:hidden;'>7<td bgcolor=\"#eeeeee\" style='text-align: center;'></td><td bgcolor=\"#eeeeee\" style='text-align: center;'></td><td bgcolor=\"#ccccff\" style='text-align: center;'>1</td><td bgcolor=\"#eeeeee\" style='text-align: center;'></td><td bgcolor=\"#eeeeee\" style='text-align: center;'></td><td bgcolor=\"#eeeeee\" style='text-align: center;'></td><td bgcolor=\"#eeeeee\" style='text-align: center;'></td><td bgcolor=\"#ccccff\" style='text-align: center;'>1</td><td bgcolor=\"#eeeeee\" style='text-align: center;'></td><td bgcolor=\"#eeeeee\" style='text-align: center;'></td><td bgcolor=\"#ccccff\" style='text-align: center;'>1</td><td bgcolor=\"#eeeeee\" style='text-align: center;'></td><td bgcolor=\"#eeeeee\" style='text-align: center;'></td><td bgcolor=\"#eeeeee\" style='text-align: center;'></td><td bgcolor=\"#eeeeee\" style='text-align: center;'></td><td bgcolor=\"#ccccff\" style='text-align: center;'>1</td><td bgcolor=\"#eeeeee\" style='text-align: center;'></td><td bgcolor=\"#eeeeee\" style='text-align: center;'></td><td bgcolor=\"#ccccff\" style='text-align: center;'>1</td><td bgcolor=\"#eeeeee\" style='text-align: center;'></td><td bgcolor=\"#eeeeee\" style='text-align: center;'></td><td bgcolor=\"#ccccff\" style='text-align: center;'>1</td><td bgcolor=\"#eeeeee\" style='text-align: center;'></td><td bgcolor=\"#eeeeee\" style='text-align: center;'></td><td bgcolor=\"#eeeeee\" style='text-align: center;'></td><td bgcolor=\"#ccccff\" style='text-align: center;'>1</td><td bgcolor=\"#eeeeee\" style='text-align: center;'></td><td bgcolor=\"#eeeeee\" style='text-align: center;'></td><td bgcolor=\"#eeeeee\" style='text-align: center;'></td><td bgcolor=\"#eeeeee\" style='text-align: center;'></td><td bgcolor=\"#ccccff\" style='text-align: center;'>1</td><td bgcolor=\"#eeeeee\" style='text-align: center;'></td><td bgcolor=\"#eeeeee\" style='text-align: center;'></td><td bgcolor=\"#eeeeee\" style='text-align: center;'></td><td bgcolor=\"#eeeeee\" style='text-align: center;'></td><td bgcolor=\"#eeeeee\" style='text-align: center;'></td></tr><tr><td style='border-style:hidden;'>8<td bgcolor=\"#eeeeee\" style='text-align: center;'></td><td bgcolor=\"#eeeeee\" style='text-align: center;'></td><td bgcolor=\"#eeeeee\" style='text-align: center;'></td><td bgcolor=\"#ccccff\" style='text-align: center;'>1</td><td bgcolor=\"#eeeeee\" style='text-align: center;'></td><td bgcolor=\"#eeeeee\" style='text-align: center;'></td><td bgcolor=\"#eeeeee\" style='text-align: center;'></td><td bgcolor=\"#ccccff\" style='text-align: center;'>1</td><td bgcolor=\"#eeeeee\" style='text-align: center;'></td><td bgcolor=\"#eeeeee\" style='text-align: center;'></td><td bgcolor=\"#eeeeee\" style='text-align: center;'></td><td bgcolor=\"#eeeeee\" style='text-align: center;'></td><td bgcolor=\"#eeeeee\" style='text-align: center;'></td><td bgcolor=\"#ccccff\" style='text-align: center;'>1</td><td bgcolor=\"#eeeeee\" style='text-align: center;'></td><td bgcolor=\"#eeeeee\" style='text-align: center;'></td><td bgcolor=\"#ccccff\" style='text-align: center;'>1</td><td bgcolor=\"#eeeeee\" style='text-align: center;'></td><td bgcolor=\"#eeeeee\" style='text-align: center;'></td><td bgcolor=\"#ccccff\" style='text-align: center;'>1</td><td bgcolor=\"#eeeeee\" style='text-align: center;'></td><td bgcolor=\"#eeeeee\" style='text-align: center;'></td><td bgcolor=\"#eeeeee\" style='text-align: center;'></td><td bgcolor=\"#eeeeee\" style='text-align: center;'></td><td bgcolor=\"#eeeeee\" style='text-align: center;'></td><td bgcolor=\"#eeeeee\" style='text-align: center;'></td><td bgcolor=\"#ccccff\" style='text-align: center;'>1</td><td bgcolor=\"#eeeeee\" style='text-align: center;'></td><td bgcolor=\"#eeeeee\" style='text-align: center;'></td><td bgcolor=\"#eeeeee\" style='text-align: center;'></td><td bgcolor=\"#eeeeee\" style='text-align: center;'></td><td bgcolor=\"#ccccff\" style='text-align: center;'>1</td><td bgcolor=\"#eeeeee\" style='text-align: center;'></td><td bgcolor=\"#eeeeee\" style='text-align: center;'></td><td bgcolor=\"#eeeeee\" style='text-align: center;'></td><td bgcolor=\"#ccccff\" style='text-align: center;'>1</td></tr></table>"
      ],
      "text/plain": [
       "<IPython.core.display.HTML object>"
      ]
     },
     "execution_count": 8,
     "metadata": {},
     "output_type": "execute_result"
    }
   ],
   "source": [
    "from minimum.linear.jupyter import display_2d\n",
    "display_2d(x)"
   ]
  },
  {
   "cell_type": "code",
   "execution_count": null,
   "metadata": {},
   "outputs": [],
   "source": []
  }
 ],
 "metadata": {
  "kernelspec": {
   "display_name": "Python 3",
   "language": "python",
   "name": "python3"
  },
  "language_info": {
   "codemirror_mode": {
    "name": "ipython",
    "version": 3
   },
   "file_extension": ".py",
   "mimetype": "text/x-python",
   "name": "python",
   "nbconvert_exporter": "python",
   "pygments_lexer": "ipython3",
   "version": "3.5.4"
  }
 },
 "nbformat": 4,
 "nbformat_minor": 1
}
