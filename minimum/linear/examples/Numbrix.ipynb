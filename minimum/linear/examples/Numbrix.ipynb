{
 "cells": [
  {
   "cell_type": "markdown",
   "metadata": {},
   "source": [
    "Numbrix is a logic-based number-placement puzzle.[1]\n",
    "The objective is to fill the grid so that each cell contains\n",
    "digits in sequential order taking a horizontal or vertical\n",
    "path; diagonal paths are not allowed. The puzzle setter\n",
    "provides a grid often with the outer most cells completed.\n",
    "\n",
    "Completed Numbrix puzzles are usually a square of numbers\n",
    "in order from 1 to 64 (8x8 grid) or from 1 to 81 (9x9 grid),\n",
    "following a continuous path in sequence.\n",
    "\n",
    "The modern puzzle was invented by Marilyn vos Savant in 2008\n",
    "and published by Parade Magazine under the name \"Numbrix\",\n",
    "near her weekly Ask Marilyn article.\n",
    "\n",
    "  1.  http://en.wikipedia.org/wiki/Numbrix"
   ]
  },
  {
   "cell_type": "code",
   "execution_count": 1,
   "metadata": {},
   "outputs": [],
   "source": [
    "_ = 0\n",
    "given = [[_,  _,  _,  _,  _,  _,  _,  _, _],\n",
    "         [_, 11, 12, 15, 18, 21, 62, 61, _],\n",
    "         [_,  6,  _,  _,  _,  _,  _, 60, _],\n",
    "         [_, 33,  _,  _,  _,  _,  _, 57, _],\n",
    "         [_, 32,  _,  _,  _,  _,  _, 56, _],\n",
    "         [_, 37,  _,  _,  _,  _,  _, 73, _],\n",
    "         [_, 38,  _,  _,  _,  _,  _, 72, _],\n",
    "         [_, 43, 44, 47, 48, 51, 76, 77, _],\n",
    "         [_,  _,  _,  _,  _,  _,  _,  _, _]]\n",
    "n = len(given)"
   ]
  },
  {
   "cell_type": "markdown",
   "metadata": {},
   "source": [
    "The given numbers are added as hard constraints to an indicator variable."
   ]
  },
  {
   "cell_type": "code",
   "execution_count": 2,
   "metadata": {},
   "outputs": [],
   "source": [
    "from minimum.linear.ip import IP\n",
    "from minimum.linear.sum import Sum\n",
    "\n",
    "ip = IP()\n",
    "x = ip.add_boolean_cube(n, n, n*n)\n",
    "\n",
    "for i in range(n):\n",
    "    for j in range(n):\n",
    "        if given[i][j] > 0:\n",
    "            ip.add_constraint(x[i, j, given[i][j] - 1] == 1)"
   ]
  },
  {
   "cell_type": "markdown",
   "metadata": {},
   "source": [
    "Every square contains exactly one number."
   ]
  },
  {
   "cell_type": "code",
   "execution_count": 3,
   "metadata": {},
   "outputs": [],
   "source": [
    "for i in range(n):\n",
    "    for j in range(n):\n",
    "        ip.add_constraint(sum(x[i, j, :]) == 1)"
   ]
  },
  {
   "cell_type": "markdown",
   "metadata": {},
   "source": [
    "Every number occurs exactly once."
   ]
  },
  {
   "cell_type": "code",
   "execution_count": 4,
   "metadata": {},
   "outputs": [],
   "source": [
    "for k in range(n*n):\n",
    "    ip.add_constraint(sum(sum(x[:, :, k])) == 1)"
   ]
  },
  {
   "cell_type": "markdown",
   "metadata": {},
   "source": [
    "Every number (except the first) is neighbor to its predecessor."
   ]
  },
  {
   "cell_type": "code",
   "execution_count": 5,
   "metadata": {},
   "outputs": [],
   "source": [
    "for k in range(1, n*n):\n",
    "    for i in range(n):\n",
    "        for j in range(n):\n",
    "            neighborhood = x[i, j, k]\n",
    "            \n",
    "            if i > 0:\n",
    "                neighborhood -= x[i-1, j, k-1]\n",
    "            if i < n - 1:\n",
    "                neighborhood -= x[i+1, j, k-1]\n",
    "            if j > 0:\n",
    "                neighborhood -= x[i, j-1, k-1]\n",
    "            if j < n - 1:\n",
    "                neighborhood -= x[i, j+1, k-1]\n",
    "            \n",
    "            ip.add_constraint(neighborhood <= 0)"
   ]
  },
  {
   "cell_type": "markdown",
   "metadata": {},
   "source": [
    "Solve the problem."
   ]
  },
  {
   "cell_type": "code",
   "execution_count": 7,
   "metadata": {},
   "outputs": [
    {
     "data": {
      "text/html": [
       "<table><tr><td style='border-style:hidden;'></td><td style='border-style:hidden;'>&ensp;&ensp;0</td><td style='border-style:hidden;'>&ensp;&ensp;1</td><td style='border-style:hidden;'>&ensp;&ensp;2</td><td style='border-style:hidden;'>&ensp;&ensp;3</td><td style='border-style:hidden;'>&ensp;&ensp;4</td><td style='border-style:hidden;'>&ensp;&ensp;5</td><td style='border-style:hidden;'>&ensp;&ensp;6</td><td style='border-style:hidden;'>&ensp;&ensp;7</td><td style='border-style:hidden;'>&ensp;&ensp;8</td></tr><tr><td style='border-style:hidden;'>0<td bgcolor=\"#eeeeee\" style='text-align: center;'>9</td><td bgcolor=\"#eeeeee\" style='text-align: center;'>10</td><td bgcolor=\"#eeeeee\" style='text-align: center;'>13</td><td bgcolor=\"#eeeeee\" style='text-align: center;'>14</td><td bgcolor=\"#eeeeee\" style='text-align: center;'>19</td><td bgcolor=\"#eeeeee\" style='text-align: center;'>20</td><td bgcolor=\"#eeeeee\" style='text-align: center;'>63</td><td bgcolor=\"#eeeeee\" style='text-align: center;'>64</td><td bgcolor=\"#eeeeee\" style='text-align: center;'>65</td></tr><tr><td style='border-style:hidden;'>1<td bgcolor=\"#eeeeee\" style='text-align: center;'>8</td><td bgcolor=\"#ccccff\" style='text-align: center;'>11</td><td bgcolor=\"#ccccff\" style='text-align: center;'>12</td><td bgcolor=\"#ccccff\" style='text-align: center;'>15</td><td bgcolor=\"#ccccff\" style='text-align: center;'>18</td><td bgcolor=\"#ccccff\" style='text-align: center;'>21</td><td bgcolor=\"#ccccff\" style='text-align: center;'>62</td><td bgcolor=\"#ccccff\" style='text-align: center;'>61</td><td bgcolor=\"#eeeeee\" style='text-align: center;'>66</td></tr><tr><td style='border-style:hidden;'>2<td bgcolor=\"#eeeeee\" style='text-align: center;'>7</td><td bgcolor=\"#ccccff\" style='text-align: center;'>6</td><td bgcolor=\"#eeeeee\" style='text-align: center;'>5</td><td bgcolor=\"#eeeeee\" style='text-align: center;'>16</td><td bgcolor=\"#eeeeee\" style='text-align: center;'>17</td><td bgcolor=\"#eeeeee\" style='text-align: center;'>22</td><td bgcolor=\"#eeeeee\" style='text-align: center;'>59</td><td bgcolor=\"#ccccff\" style='text-align: center;'>60</td><td bgcolor=\"#eeeeee\" style='text-align: center;'>67</td></tr><tr><td style='border-style:hidden;'>3<td bgcolor=\"#eeeeee\" style='text-align: center;'>34</td><td bgcolor=\"#ccccff\" style='text-align: center;'>33</td><td bgcolor=\"#eeeeee\" style='text-align: center;'>4</td><td bgcolor=\"#eeeeee\" style='text-align: center;'>3</td><td bgcolor=\"#eeeeee\" style='text-align: center;'>24</td><td bgcolor=\"#eeeeee\" style='text-align: center;'>23</td><td bgcolor=\"#eeeeee\" style='text-align: center;'>58</td><td bgcolor=\"#ccccff\" style='text-align: center;'>57</td><td bgcolor=\"#eeeeee\" style='text-align: center;'>68</td></tr><tr><td style='border-style:hidden;'>4<td bgcolor=\"#eeeeee\" style='text-align: center;'>35</td><td bgcolor=\"#ccccff\" style='text-align: center;'>32</td><td bgcolor=\"#eeeeee\" style='text-align: center;'>31</td><td bgcolor=\"#eeeeee\" style='text-align: center;'>2</td><td bgcolor=\"#eeeeee\" style='text-align: center;'>25</td><td bgcolor=\"#eeeeee\" style='text-align: center;'>54</td><td bgcolor=\"#eeeeee\" style='text-align: center;'>55</td><td bgcolor=\"#ccccff\" style='text-align: center;'>56</td><td bgcolor=\"#eeeeee\" style='text-align: center;'>69</td></tr><tr><td style='border-style:hidden;'>5<td bgcolor=\"#eeeeee\" style='text-align: center;'>36</td><td bgcolor=\"#ccccff\" style='text-align: center;'>37</td><td bgcolor=\"#eeeeee\" style='text-align: center;'>30</td><td bgcolor=\"#eeeeee\" style='text-align: center;'>1</td><td bgcolor=\"#eeeeee\" style='text-align: center;'>26</td><td bgcolor=\"#eeeeee\" style='text-align: center;'>53</td><td bgcolor=\"#eeeeee\" style='text-align: center;'>74</td><td bgcolor=\"#ccccff\" style='text-align: center;'>73</td><td bgcolor=\"#eeeeee\" style='text-align: center;'>70</td></tr><tr><td style='border-style:hidden;'>6<td bgcolor=\"#eeeeee\" style='text-align: center;'>39</td><td bgcolor=\"#ccccff\" style='text-align: center;'>38</td><td bgcolor=\"#eeeeee\" style='text-align: center;'>29</td><td bgcolor=\"#eeeeee\" style='text-align: center;'>28</td><td bgcolor=\"#eeeeee\" style='text-align: center;'>27</td><td bgcolor=\"#eeeeee\" style='text-align: center;'>52</td><td bgcolor=\"#eeeeee\" style='text-align: center;'>75</td><td bgcolor=\"#ccccff\" style='text-align: center;'>72</td><td bgcolor=\"#eeeeee\" style='text-align: center;'>71</td></tr><tr><td style='border-style:hidden;'>7<td bgcolor=\"#eeeeee\" style='text-align: center;'>40</td><td bgcolor=\"#ccccff\" style='text-align: center;'>43</td><td bgcolor=\"#ccccff\" style='text-align: center;'>44</td><td bgcolor=\"#ccccff\" style='text-align: center;'>47</td><td bgcolor=\"#ccccff\" style='text-align: center;'>48</td><td bgcolor=\"#ccccff\" style='text-align: center;'>51</td><td bgcolor=\"#ccccff\" style='text-align: center;'>76</td><td bgcolor=\"#ccccff\" style='text-align: center;'>77</td><td bgcolor=\"#eeeeee\" style='text-align: center;'>78</td></tr><tr><td style='border-style:hidden;'>8<td bgcolor=\"#eeeeee\" style='text-align: center;'>41</td><td bgcolor=\"#eeeeee\" style='text-align: center;'>42</td><td bgcolor=\"#eeeeee\" style='text-align: center;'>45</td><td bgcolor=\"#eeeeee\" style='text-align: center;'>46</td><td bgcolor=\"#eeeeee\" style='text-align: center;'>49</td><td bgcolor=\"#eeeeee\" style='text-align: center;'>50</td><td bgcolor=\"#eeeeee\" style='text-align: center;'>81</td><td bgcolor=\"#eeeeee\" style='text-align: center;'>80</td><td bgcolor=\"#eeeeee\" style='text-align: center;'>79</td></tr></table>"
      ],
      "text/plain": [
       "<IPython.core.display.HTML object>"
      ]
     },
     "execution_count": 7,
     "metadata": {},
     "output_type": "execute_result"
    }
   ],
   "source": [
    "import minimum.linear.solver\n",
    "minimum.linear.solver.Solver().solutions(ip).get()\n",
    "\n",
    "v = []\n",
    "for i in range(n):\n",
    "    row = []\n",
    "    for j in range(n):\n",
    "        value = 0\n",
    "        for k in range(n*n):\n",
    "            value += (k+1) * x[i, j, k].value()\n",
    "        row.append(Sum(value))\n",
    "    v.append(row)\n",
    "\n",
    "from minimum.linear.jupyter import display_2d\n",
    "display_2d(v, color=given)"
   ]
  },
  {
   "cell_type": "code",
   "execution_count": null,
   "metadata": {},
   "outputs": [],
   "source": []
  }
 ],
 "metadata": {
  "kernelspec": {
   "display_name": "Python 3",
   "language": "python",
   "name": "python3"
  },
  "language_info": {
   "codemirror_mode": {
    "name": "ipython",
    "version": 3
   },
   "file_extension": ".py",
   "mimetype": "text/x-python",
   "name": "python",
   "nbconvert_exporter": "python",
   "pygments_lexer": "ipython3",
   "version": "3.5.4"
  }
 },
 "nbformat": 4,
 "nbformat_minor": 1
}
