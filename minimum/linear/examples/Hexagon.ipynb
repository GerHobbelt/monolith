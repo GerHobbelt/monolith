{
 "cells": [
  {
   "cell_type": "markdown",
   "metadata": {},
   "source": [
    "# Hexagon\n",
    "```\n",
    "      0   1   2\n",
    "    11  12  13  3\n",
    "  10  17  18  14  4\n",
    "    9  16  15   5\n",
    "      8   7   6\n",
    "```"
   ]
  },
  {
   "cell_type": "code",
   "execution_count": 4,
   "metadata": {},
   "outputs": [],
   "source": [
    "from minimum.linear.ip import IP\n",
    "ip = IP()\n",
    "\n",
    "x = {}\n",
    "number = [0] * 19\n",
    "for i in range(19):\n",
    "    xs = ip.add_boolean_vector(19)\n",
    "    x[i] = 0\n",
    "    for j in range(19):\n",
    "        x[i] += (j + 1) * xs[j]\n",
    "        number[j] += xs[j]\n",
    "    ip.add_constraint(sum(xs) == 1)\n",
    "\n",
    "for i in range(19):\n",
    "    ip.add_constraint(number[i] == 1)\n",
    "        \n",
    "#rhs = 38\n",
    "rhs = ip.add_variable()\n",
    "\n",
    "ip.add_constraint(x[0]  + x[1]  + x[2]                 == rhs)\n",
    "ip.add_constraint(x[11] + x[12] + x[13] + x[3]         == rhs)\n",
    "ip.add_constraint(x[10] + x[17] + x[18] + x[14] + x[4] == rhs)\n",
    "ip.add_constraint(x[9]  + x[16] + x[15] + x[5]         == rhs)\n",
    "ip.add_constraint(x[8]  + x[7]  + x[6]                 == rhs)\n",
    "\n",
    "ip.add_constraint(x[10] + x[9]  + x[8]                 == rhs)\n",
    "ip.add_constraint(x[11] + x[17] + x[16] + x[7]         == rhs)\n",
    "ip.add_constraint(x[0]  + x[12] + x[18] + x[15] + x[6] == rhs)\n",
    "ip.add_constraint(x[1]  + x[13] + x[14] + x[5]         == rhs)\n",
    "ip.add_constraint(x[2]  + x[3]  + x[4]                 == rhs)\n",
    "\n",
    "ip.add_constraint(x[0]  + x[11] + x[10]                == rhs)\n",
    "ip.add_constraint(x[1]  + x[12] + x[17] + x[9]         == rhs)\n",
    "ip.add_constraint(x[2]  + x[13] + x[18] + x[16] + x[8] == rhs)\n",
    "ip.add_constraint(x[3]  + x[14] + x[15] + x[7]         == rhs)\n",
    "ip.add_constraint(x[4]  + x[5]  + x[6]                 == rhs)"
   ]
  },
  {
   "cell_type": "code",
   "execution_count": 7,
   "metadata": {},
   "outputs": [
    {
     "name": "stdout",
     "output_type": "stream",
     "text": [
      "     3  17  18\n",
      "  19   7   1  10\n",
      "16   2   5   6   9\n",
      "  12   4   8  14\n",
      "    10  13  15\n"
     ]
    }
   ],
   "source": [
    "from minimum.linear.solver import Solver, Type\n",
    "\n",
    "Solver().solutions(ip).get()\n",
    "\n",
    "print(\"    %2d  %2d  %2d\"       % (x[0].value(),  x[1].value(),  x[2].value()))\n",
    "print(\"  %2d  %2d  %2d  %2d\"    % (x[11].value(), x[12].value(), x[13].value(), x[3].value()))\n",
    "print(\"%2d  %2d  %2d  %2d  %2d\" % (x[10].value(), x[17].value(), x[18].value(),\n",
    "                                   x[14].value(), x[4].value()))\n",
    "print(\"  %2d  %2d  %2d  %2d\"    % (x[9].value(),  x[16].value(), x[15].value(), x[5].value()))\n",
    "print(\"    %2d  %2d  %2d\"       % (x[8].value(),  x[7].value(),  x[6].value()))"
   ]
  },
  {
   "cell_type": "code",
   "execution_count": null,
   "metadata": {},
   "outputs": [],
   "source": []
  }
 ],
 "metadata": {
  "kernelspec": {
   "display_name": "Python 3",
   "language": "python",
   "name": "python3"
  },
  "language_info": {
   "codemirror_mode": {
    "name": "ipython",
    "version": 3
   },
   "file_extension": ".py",
   "mimetype": "text/x-python",
   "name": "python",
   "nbconvert_exporter": "python",
   "pygments_lexer": "ipython3",
   "version": "3.5.4"
  }
 },
 "nbformat": 4,
 "nbformat_minor": 1
}
